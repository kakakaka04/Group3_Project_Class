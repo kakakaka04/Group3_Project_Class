{
  "nbformat": 4,
  "nbformat_minor": 0,
  "metadata": {
    "colab": {
      "provenance": []
    },
    "kernelspec": {
      "name": "python3",
      "display_name": "Python 3"
    },
    "language_info": {
      "name": "python"
    }
  },
  "cells": [
    {
      "cell_type": "code",
      "source": [],
      "metadata": {
        "id": "qMTHFnoiI0KP"
      },
      "execution_count": null,
      "outputs": []
    },
    {
      "cell_type": "code",
      "execution_count": null,
      "metadata": {
        "colab": {
          "base_uri": "https://localhost:8080/"
        },
        "id": "6bMQ8vyyyu4g",
        "outputId": "78c45366-92b2-4394-ba87-21cda933f0a3"
      },
      "outputs": [
        {
          "output_type": "stream",
          "name": "stdout",
          "text": [
            "21 Dr.Gody ENT 5-11AM MBBS,MD 17\n",
            "None\n"
          ]
        }
      ],
      "source": [
        "from tabulate import tabulate\n",
        "\n",
        "class formatDrinfo:\n",
        "  def __init__(self, ID, name, specialization, working_time, qualification, room_number):\n",
        "    self.id = ID\n",
        "    self.name = name\n",
        "    self.specialization = specialization\n",
        "    self.working_time = working_time\n",
        "    self.qualification = qualification\n",
        "    self.room_number = room_number\n",
        "  def displayDoctorInfo(self):\n",
        "    print(self.id, self.name, self.specialization, self.working_time, self.qualification, self.room_number)\n",
        "\n",
        "  \n",
        "\n",
        "  def enterDrinfo():\n",
        "    input_action = input(\"Doctors Menu:\\n\" + \n",
        "                      \"1 - Display Doctors list\\n\" +\n",
        "                      \"2 - Search for doctor by ID\\n\" +\n",
        "                      \"3 - Search for doctor by name\\n\" +\n",
        "                      \"4 - Add doctor\\n\" +\n",
        "                      \"5 - Edit doctor info\\n\" +\n",
        "                      \"6 - Back to the Main Menu\\n\" + \"\")\n",
        "    if input_action == \"2\":\n",
        "      input_id = input(\"Enter the doctor ID: \\n\" + \"\")\n",
        "      return input_id\n",
        "    elif input_action == \"3\":\n",
        "      input_name = (\"Enter the doctor name: \\n\" + \"\")\n",
        "      return input_name\n",
        "\n",
        "  \n",
        "\n",
        "\n",
        "#readDoctorsFile - put doctors' info into a list\n",
        "doctors_list = []\n",
        "doctors_raw_data = open(\"/content/doctors.txt\", \"r\")\n",
        "doctors_raw_data2 = doctors_raw_data.readlines()\n",
        "a = 0\n",
        "for line in doctors_raw_data2:\n",
        "  doctors_list.append(doctors_raw_data2[a].rstrip().split('_'))\n",
        "  a += 1\n",
        "\n",
        "doctor_1 = doctors_list[1]\n",
        "doctor_1_info = formatDrinfo(doctor_1[0], doctor_1[1], doctor_1[2], doctor_1[3], doctor_1[4], doctor_1[5])\n",
        "print(doctor_1_info.displayDoctorInfo())"
      ]
    },
    {
      "cell_type": "code",
      "source": [],
      "metadata": {
        "id": "gb5KnRIMhmgB"
      },
      "execution_count": null,
      "outputs": []
    },
    {
      "cell_type": "code",
      "source": [],
      "metadata": {
        "id": "9nM2cWZ4Xlbf"
      },
      "execution_count": null,
      "outputs": []
    },
    {
      "cell_type": "code",
      "source": [],
      "metadata": {
        "id": "WCLAAhzvXiHD"
      },
      "execution_count": null,
      "outputs": []
    },
    {
      "cell_type": "code",
      "source": [
        "def readDoctorsFile():\n",
        "  doctors_raw_data = open(\"/content/doctors.txt\", \"r\")\n",
        "  doctor_info = doctors_raw_data.readlines()\n",
        "  for line in doctor_info:\n",
        "    \n",
        "    print(line)"
      ],
      "metadata": {
        "colab": {
          "base_uri": "https://localhost:8080/"
        },
        "id": "qAgTvXkcCf7H",
        "outputId": "5b1e7038-9a86-4983-dad0-766622fd5ac3"
      },
      "execution_count": null,
      "outputs": [
        {
          "output_type": "stream",
          "name": "stdout",
          "text": [
            "['id_name_specilist_timing_qualification_roomNb\\n']\n"
          ]
        }
      ]
    },
    {
      "cell_type": "code",
      "source": [
        "x = 0\n",
        "for a in 10:\n",
        "  doctor{x} = \n",
        "\n",
        "\n",
        "\n",
        "del doctors_list[0]\n",
        "doctor = dict()\n",
        "x = 0\n",
        "for doctors in doctors_list:\n",
        "  doctor[x] = formatDrinfo(doctors_list[x][0], doctors_list[x][1], doctors_list[x][2], doctors_list[x][3], doctors_list[x][4], doctors_list[x][5])\n",
        "  x += 1\n",
        "\n",
        "new_list = [item.rstrip() for item in doctors_list[0]]\n",
        "print(new_list)\n",
        "  (doctors_data[d][0], doctors_data[d][1], doctors_data[d][2], doctors_data[d][3], doctors_data[d][4], doctors_data[d][5])"
      ],
      "metadata": {
        "id": "XUXDp385y6sC"
      },
      "execution_count": null,
      "outputs": []
    }
  ]
}