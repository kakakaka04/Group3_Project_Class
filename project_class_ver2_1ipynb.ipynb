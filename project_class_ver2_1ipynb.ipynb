{
  "nbformat": 4,
  "nbformat_minor": 0,
  "metadata": {
    "colab": {
      "provenance": []
    },
    "kernelspec": {
      "name": "python3",
      "display_name": "Python 3"
    },
    "language_info": {
      "name": "python"
    }
  },
  "cells": [
    {
      "cell_type": "code",
      "execution_count": null,
      "metadata": {
        "id": "3VptUwT9UZ5y"
      },
      "outputs": [],
      "source": [
        "class Laboratory:\n",
        "\n",
        "  #Read the labs' info\n",
        "  def readLaboratoriesFile():\n",
        "    lab_list = []\n",
        "    lab_raw_data = open(\"/content/laboratories.txt\", \"r\")\n",
        "    lab_raw_data2 = lab_raw_data.readlines()\n",
        "    a = 0\n",
        "    for line in lab_raw_data2:\n",
        "      lab_list.append(lab_raw_data2[a].rstrip().split('_'))\n",
        "      a += 1\n",
        "    del(lab_list[0])\n",
        "    lab_raw_data.close\n",
        "    return lab_list\n",
        "\n",
        "  #Display the lab's info as a table\n",
        "  def displayLabsList():\n",
        "    header = [\"Facility\", \"Cost\"]\n",
        "    lab_list2 = Laboratory.readLaboratoriesFile()\n",
        "    print(tabulate(lab_list2, headers = header))\n",
        "    \n",
        "  #Write a list of labs to the file\n",
        "  def writeListOfLabsToFile(new_lab_list):\n",
        "    a = 0\n",
        "    lab_raw_data = open(\"/content/doctors.txt\", \"a\")\n",
        "    for x in new_lab_list:\n",
        "      new_doctor_list_info = \"_\".join(new_lab_list[a])\n",
        "      lab_raw_data.write(f\"\\n{new_doctor_list_info}\")\n",
        "      a += 1\n",
        "    lab_raw_data.close()"
      ]
    }
  ]
}