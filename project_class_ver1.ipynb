{
  "nbformat": 4,
  "nbformat_minor": 0,
  "metadata": {
    "colab": {
      "provenance": []
    },
    "kernelspec": {
      "name": "python3",
      "display_name": "Python 3"
    },
    "language_info": {
      "name": "python"
    }
  },
  "cells": [
    {
      "cell_type": "code",
      "execution_count": null,
      "metadata": {
        "id": "3VptUwT9UZ5y"
      },
      "outputs": [],
      "source": [
        "class Doctor:\n",
        "\n",
        "  #Combine all strings in a list with a \"_\"\n",
        "  def formatDrInfo(dr_list):\n",
        "    return \"_\".join(dr_list)\n",
        "\n",
        "  #Collect a new doctor's info\n",
        "  def enterDrInfo():\n",
        "    new_dr_info = []\n",
        "    new_dr_info.append(input(\"Enter the doctor’s ID:\\n\" + \"\"))\n",
        "    new_dr_info.append(input(\"Enter the doctor’s name:\\n\" + \"\"))\n",
        "    new_dr_info.append(input(\"Enter the doctor’s specility:\\n\" + \"\"))\n",
        "    new_dr_info.append(input(\"Enter the doctor’s timing (e.g., 7am-10pm):\\n\" + \"\"))\n",
        "    new_dr_info.append(input(\"Enter the doctor’s qualification:\\n\" + \"\"))\n",
        "    new_dr_info.append(input(\"Enter the doctor’s room number:\\n\" + \"\"))\n",
        "    return new_dr_info\n",
        "\n",
        "  #Read the doctor file\n",
        "  def readDoctorsFile():\n",
        "    doctors_list = []\n",
        "    doctors_raw_data = open(\"/content/doctors.txt\", \"r\")\n",
        "    doctors_raw_data2 = doctors_raw_data.readlines()\n",
        "    a = 0\n",
        "    for line in doctors_raw_data2:\n",
        "      doctors_list.append(doctors_raw_data2[a].rstrip().split('_'))\n",
        "      a += 1\n",
        "    del(doctors_list[0])\n",
        "    return doctors_list\n"
      ]
    }
  ]
}