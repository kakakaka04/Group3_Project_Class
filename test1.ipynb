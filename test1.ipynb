{
  "nbformat": 4,
  "nbformat_minor": 0,
  "metadata": {
    "colab": {
      "provenance": []
    },
    "kernelspec": {
      "name": "python3",
      "display_name": "Python 3"
    },
    "language_info": {
      "name": "python"
    }
  },
  "cells": [
    {
      "cell_type": "code",
      "execution_count": null,
      "metadata": {
        "colab": {
          "base_uri": "https://localhost:8080/"
        },
        "id": "3reUOouyYzYo",
        "outputId": "4b200f8a-4892-4ee1-a61c-d0d2cbca83a1"
      },
      "outputs": [
        {
          "output_type": "stream",
          "name": "stdout",
          "text": [
            "Please enter the id of the doctor that you want to edit their information:\n",
            "12\n",
            "id_name_specilist_timing_qualification_roomNb\n",
            "21_Dr.Gody_ENT_5-11AM_MBBS,MD_17\n",
            "32_Dr.Vikram_Physician_10-3AM_MBBS,MD_45\n",
            "17_Dr.Amy_Surgeon_8-2AM_BDM_8\n",
            "33_Dr.David_Artho_10-4PM_MBBS,MS_40\n",
            "123_Dr. Ross_Headackes_8-10am_Mst_102\n"
          ]
        }
      ],
      "source": [
        "from tabulate import tabulate\n",
        "doctors_list = []\n",
        "class Doctor:\n",
        "  def __init__(self, ID, name, specialization, working_time, qualification, room_number):\n",
        "    self.id = ID\n",
        "    self.name = name\n",
        "    self.specialization = specialization\n",
        "    self.working_time = working_time\n",
        "    self.qualification = qualification\n",
        "    self.room_number = room_number\n",
        "\n",
        "  def formatDrInfo(dr_list):\n",
        "    return \"_\".join(dr_list)\n",
        "\n",
        "  def enterDrInfo():\n",
        "      new_dr_info = []\n",
        "      new_dr_info.append(input(\"Enter the doctor’s ID:\\n\" + \"\"))\n",
        "      new_dr_info.append(input(\"Enter the doctor’s name:\\n\" + \"\"))\n",
        "      new_dr_info.append(input(\"Enter the doctor’s specility:\\n\" + \"\"))\n",
        "      new_dr_info.append(input(\"Enter the doctor’s timing (e.g., 7am-10pm):\\n\" + \"\"))\n",
        "      new_dr_info.append(input(\"Enter the doctor’s qualification:\\n\" + \"\"))\n",
        "      new_dr_info.append(input(\"Enter the doctor’s room number:\\n\" + \"\"))\n",
        "      return new_dr_info\n",
        "\n",
        "  def readDoctorsFile():\n",
        "    doctors_list = []\n",
        "    doctors_raw_data = open(\"/content/doctors.txt\", \"r\")\n",
        "    item = doctors_raw_data.readlines()\n",
        "    a = 0\n",
        "    for line in item:\n",
        "      doctors_list.append(item[a].rstrip().split('_'))\n",
        "      a += 1\n",
        "    del(doctors_list[0])\n",
        "    return doctors_list\n",
        "\n",
        "  def searchDoctorById(ID):\n",
        "    a = 0\n",
        "    for line in doctors_list:\n",
        "      if doctors_list[a][0] == (ID):\n",
        "        return True\n",
        "      else:\n",
        "        a += 1\n",
        "\n",
        "  def searchDoctorByName(name):\n",
        "    for line in doctors_list:\n",
        "      if name in line:\n",
        "        return True\n",
        "      else:\n",
        "        return False\n",
        "    \n",
        "  def displayDoctorInfo(id_or_name):\n",
        "    header = [\"ID\", \"Name\", \"Speciality\", \"Timing\", \"Qualification\", \"Room Number\"]\n",
        "    from tabulate import tabulate\n",
        "    a = 0\n",
        "    for item in doctors_list:\n",
        "      if id_or_name in doctors_list[a]:\n",
        "        print(tabulate([item], headers = header))\n",
        "        break\n",
        "      else:\n",
        "        a += 1\n",
        "\n",
        "  def editDoctorInfo():\n",
        "    dr_list = [0, 0, 0, 0, 0, 0]\n",
        "    input_dr = input(\"Please enter the id of the doctor that you want to edit their information:\\n\" + \"\")\n",
        "    yes_no = Doctor.searchDoctorById(input_dr)\n",
        "    a = 0\n",
        "    if yes_no == True:\n",
        "      while True:\n",
        "        if doctors_list[a][0] == input_dr:\n",
        "          item1 = doctors_list[a][1]\n",
        "          item2 = doctors_list[a][2]\n",
        "          item3 = doctors_list[a][3]\n",
        "          item4 = doctors_list[a][4]\n",
        "          item5 = doctors_list[a][5]\n",
        "          dr_list[a][0] = input_dr\n",
        "          dr_list[a][1] = input(\"Enter new Name:\\n\" + \"\")\n",
        "          dr_list[a][2] = input(\"Enter new Specilist in:\\n\" + \"\")\n",
        "          dr_list[a][3] = input(\"Enter new Timing:\\n\" + \"\")\n",
        "          dr_list[a][4] = input(\"Enter new Qualification:\\n\" + \"\")\n",
        "          dr_list[a][5] = input(\"Enter new Room number:\\n\" + \"\")\n",
        "          dr_info = open(\"/content/doctors.txt\", \"r\")\n",
        "          item = dr_info.read()\n",
        "          item = item.replace(item1, dr_list[a][1])\n",
        "          item = item.replace(item2, dr_list[a][2])\n",
        "          item = item.replace(item3, dr_list[a][3])\n",
        "          item = item.replace(item4, dr_list[a][4])\n",
        "          item = item.replace(item5, dr_list[a][5])\n",
        "          dr_info.close()\n",
        "          dr_info = open(\"/content/doctors.txt\", \"w\")\n",
        "          dr_info.write(item)\n",
        "          dr_info.close()\n",
        "          return dr_list[a]\n",
        "        else:\n",
        "          a += 1\n",
        "\n",
        "Doctor.readDoctorsFile()\n",
        "\n",
        "Doctor.editDoctorInfo()\n",
        "dr_info = open(\"/content/doctors.txt\", \"r\")\n",
        "item = dr_info.read()\n",
        "print(item)"
      ]
    },
    {
      "cell_type": "code",
      "source": [],
      "metadata": {
        "id": "2EeE2h3xlfFR"
      },
      "execution_count": null,
      "outputs": []
    }
  ]
}